{
 "cells": [
  {
   "cell_type": "markdown",
   "id": "885e0ecc",
   "metadata": {},
   "source": [
    "Ejercicio 1.\n",
    "\n",
    "Crear 5 variables con 5 notas numéricas y realizar la media aritmética. Mostrar el resultado final con un mensaje."
   ]
  },
  {
   "cell_type": "code",
   "execution_count": 1,
   "id": "b0e3a5d8",
   "metadata": {},
   "outputs": [
    {
     "name": "stdout",
     "output_type": "stream",
     "text": [
      "La media aritmética es => 6.6\n"
     ]
    }
   ],
   "source": [
    "nota1 = 9\n",
    "nota2 = 2\n",
    "nota3 = 5\n",
    "nota4 = 7\n",
    "nota5 = 10\n",
    "\n",
    "lista = [nota1, nota2, nota3, nota4, nota5]\n",
    "media = sum(lista)/5\n",
    "print(\"La media aritmética es =>\", media)\n"
   ]
  },
  {
   "cell_type": "code",
   "execution_count": 9,
   "id": "fa159a1a",
   "metadata": {},
   "outputs": [
    {
     "name": "stdout",
     "output_type": "stream",
     "text": [
      "La media aritmética es => 6.6\n"
     ]
    }
   ],
   "source": [
    "nota1 = 9\n",
    "nota2 = 2\n",
    "nota3 = 5\n",
    "nota4 = 7\n",
    "nota5 = 10\n",
    "lista = [nota1, nota2, nota3, nota4, nota5]\n",
    "def mean(lista):\n",
    "    return sum(lista)/5\n",
    "media = mean(lista)\n",
    "print(\"La media aritmética es =>\", media)\n"
   ]
  },
  {
   "cell_type": "markdown",
   "id": "bfb96c7d",
   "metadata": {},
   "source": [
    "Ejercicio 2. Busca en la documentación la forma correcta de redondear el siguiente resultado a tan solo 2 decimales: operacion = (365/12)*14.7"
   ]
  },
  {
   "cell_type": "code",
   "execution_count": 8,
   "id": "60f91046",
   "metadata": {},
   "outputs": [
    {
     "name": "stdout",
     "output_type": "stream",
     "text": [
      "432.9126213592233\n",
      "432.91\n"
     ]
    }
   ],
   "source": [
    "operacion = (364/12.36)*14.7\n",
    "print(operacion)\n",
    "print(round(operacion,2))"
   ]
  }
 ],
 "metadata": {
  "kernelspec": {
   "display_name": "base",
   "language": "python",
   "name": "python3"
  },
  "language_info": {
   "codemirror_mode": {
    "name": "ipython",
    "version": 3
   },
   "file_extension": ".py",
   "mimetype": "text/x-python",
   "name": "python",
   "nbconvert_exporter": "python",
   "pygments_lexer": "ipython3",
   "version": "3.13.5"
  }
 },
 "nbformat": 4,
 "nbformat_minor": 5
}
