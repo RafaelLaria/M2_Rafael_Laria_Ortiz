{
 "cells": [
  {
   "cell_type": "markdown",
   "id": "885e0ecc",
   "metadata": {},
   "source": [
    "Ejercicio 1.\n",
    "\n",
    "Crear 5 variables con 5 notas numéricas y realizar la media aritmética. Mostrar el resultado final con un mensaje."
   ]
  },
  {
   "cell_type": "code",
   "execution_count": 1,
   "id": "b0e3a5d8",
   "metadata": {},
   "outputs": [
    {
     "name": "stdout",
     "output_type": "stream",
     "text": [
      "La media aritmética es => 6.6\n"
     ]
    }
   ],
   "source": [
    "nota1 = 9\n",
    "nota2 = 2\n",
    "nota3 = 5\n",
    "nota4 = 7\n",
    "nota5 = 10\n",
    "\n",
    "lista = [nota1, nota2, nota3, nota4, nota5]\n",
    "media = sum(lista)/5\n",
    "print(\"La media aritmética es =>\", media)\n"
   ]
  },
  {
   "cell_type": "code",
   "execution_count": 9,
   "id": "fa159a1a",
   "metadata": {},
   "outputs": [
    {
     "name": "stdout",
     "output_type": "stream",
     "text": [
      "La media aritmética es => 6.6\n"
     ]
    }
   ],
   "source": [
    "nota1 = 9\n",
    "nota2 = 2\n",
    "nota3 = 5\n",
    "nota4 = 7\n",
    "nota5 = 10\n",
    "lista = [nota1, nota2, nota3, nota4, nota5]\n",
    "def mean(lista):\n",
    "    return sum(lista)/5\n",
    "media = mean(lista)\n",
    "print(\"La media aritmética es =>\", media)\n"
   ]
  },
  {
   "cell_type": "markdown",
   "id": "bfb96c7d",
   "metadata": {},
   "source": [
    "Ejercicio 2. Busca en la documentación la forma correcta de redondear el siguiente resultado a tan solo 2 decimales: operacion = (365/12)*14.7"
   ]
  },
  {
   "cell_type": "code",
   "execution_count": 8,
   "id": "60f91046",
   "metadata": {},
   "outputs": [
    {
     "name": "stdout",
     "output_type": "stream",
     "text": [
      "432.9126213592233\n",
      "432.91\n"
     ]
    }
   ],
   "source": [
    "operacion = (364/12.36)*14.7\n",
    "print(operacion)\n",
    "print(round(operacion,2))"
   ]
  },
  {
   "cell_type": "markdown",
   "id": "7b8aa9d5",
   "metadata": {},
   "source": [
    "Ejercicio 3. Crea dos variables que alamcenen 2 strings (username y password). Realizar las siguientes comprobaciones utilizando operadores lógicos:\n",
    "\n",
    "Que la longitud de username sea mayor o igual que tres y menor que diez\n",
    "\n",
    "Que la password sea igual a 'Tokio' o que sea igual a 'Python'"
   ]
  },
  {
   "cell_type": "code",
   "execution_count": 11,
   "id": "acffc383",
   "metadata": {},
   "outputs": [
    {
     "name": "stdout",
     "output_type": "stream",
     "text": [
      "False\n",
      "False\n"
     ]
    }
   ],
   "source": [
    "username = str(input(\"Dame el username:\" )) \n",
    "password = str(input(\"Dame el password:\"))\n",
    "if len(username) >=5 and len(username) < 10:\n",
    "    print(True)\n",
    "else:\n",
    "    print(False)\n",
    "\n",
    "if password == 'Tokio' or password == 'Python':\n",
    "    print(True)\n",
    "else:\n",
    "    print(False)\n"
   ]
  }
 ],
 "metadata": {
  "kernelspec": {
   "display_name": "base",
   "language": "python",
   "name": "python3"
  },
  "language_info": {
   "codemirror_mode": {
    "name": "ipython",
    "version": 3
   },
   "file_extension": ".py",
   "mimetype": "text/x-python",
   "name": "python",
   "nbconvert_exporter": "python",
   "pygments_lexer": "ipython3",
   "version": "3.13.5"
  }
 },
 "nbformat": 4,
 "nbformat_minor": 5
}
