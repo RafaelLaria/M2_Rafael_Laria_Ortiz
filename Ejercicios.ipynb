{
 "cells": [
  {
   "cell_type": "markdown",
   "id": "5f905988",
   "metadata": {},
   "source": [
    "Ejercicio 1.\n",
    "Indica un ejemplo de un tipo de dato:\n",
    "-Entero\n",
    "-Flotante\n",
    "-String\n",
    "-Booleano\n"
   ]
  },
  {
   "cell_type": "code",
   "execution_count": 2,
   "id": "6bacfe9d",
   "metadata": {},
   "outputs": [
    {
     "name": "stdout",
     "output_type": "stream",
     "text": [
      "Entero => 10\n",
      "Flotante => 3.14\n",
      "String => Hola Mundo\n",
      "Booleano => True\n"
     ]
    }
   ],
   "source": [
    "entero = 10\n",
    "flotante = 3.14\n",
    "cadena =\"Hola Mundo\"\n",
    "booleano = True\n",
    "print(\"Entero =>\", entero)\n",
    "print(\"Flotante =>\", flotante)\n",
    "print(\"String =>\", cadena)\n",
    "print(\"Booleano =>\", booleano)"
   ]
  },
  {
   "cell_type": "markdown",
   "id": "bb8ef0cb",
   "metadata": {},
   "source": [
    "Ejercicio 2.\n",
    "Crea dos variables que se llamen nombre y apeelido, en ellas introduce tu nombre y apellidos y luego prueba lo siguiente:\n",
    "-nombre + apellido\n",
    "-nombre + apellido + \".\"\n",
    "-nombre * 3"
   ]
  },
  {
   "cell_type": "code",
   "execution_count": 5,
   "id": "3b7c7ada",
   "metadata": {},
   "outputs": [
    {
     "name": "stdout",
     "output_type": "stream",
     "text": [
      "Rafael Laria Ortiz\n",
      "Rafael Laria Ortiz.\n",
      "Rafael Rafael Rafael \n"
     ]
    }
   ],
   "source": [
    "nombre = \"Rafael \"\n",
    "apellido = \"Laria Ortiz\"\n",
    "print(nombre + apellido)\n",
    "print(nombre + apellido + \".\")\n",
    "print(nombre * 3)\n"
   ]
  },
  {
   "cell_type": "markdown",
   "id": "7bbc08a4",
   "metadata": {},
   "source": [
    "Ejercicio 3.\n",
    "Retoma el ejercicio anterior, crea una variable que se llame nombreCompleto que una tu nombre y tu apellido con un espacio en el medio. Sobre esta variable, extrae tu nombre usando slicing."
   ]
  },
  {
   "cell_type": "code",
   "execution_count": 7,
   "id": "d54ff1f3",
   "metadata": {},
   "outputs": [
    {
     "name": "stdout",
     "output_type": "stream",
     "text": [
      "Rafael Laria Ortiz\n",
      "Rafael\n"
     ]
    }
   ],
   "source": [
    "nombreCompleto = nombre + apellido\n",
    "print(nombreCompleto)\n",
    "print(nombreCompleto[:6])"
   ]
  }
 ],
 "metadata": {
  "kernelspec": {
   "display_name": "base",
   "language": "python",
   "name": "python3"
  },
  "language_info": {
   "codemirror_mode": {
    "name": "ipython",
    "version": 3
   },
   "file_extension": ".py",
   "mimetype": "text/x-python",
   "name": "python",
   "nbconvert_exporter": "python",
   "pygments_lexer": "ipython3",
   "version": "3.13.5"
  }
 },
 "nbformat": 4,
 "nbformat_minor": 5
}
